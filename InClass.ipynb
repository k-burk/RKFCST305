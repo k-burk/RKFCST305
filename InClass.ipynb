# All code was written by Kara Sumpter.
# scipy, numpy, and matplotlib were all used for this project
# For implementation ODEint was used to first calculate the solution
# to the equation given.
# Then using the RKF equation that method was also used to
# calculate the solution.

from scipy.integrate import odeint
import numpy as np
import matplotlib.pyplot as plt

#function given in class to solve
def func (y,x):
    dydx= x+y
    return dydx

#initial value for y
y0=1

# set to increment by .1
x0=np.linspace(1, 101, 1001)


#using ODEint to
y1=odeint(func, y0, x0)
print(y1)




#h value
h=.1
#used to graph RKF results
ypoints=[]
xpoints=[]
ypoints.append(y0)
xpoints.append(1)
count = 0
#T4 function from the RKF equation
def T4(x, y, h):
        k1=func(y,x)
        k2=func(y+(h/2 *k1),x+h/2)
        k3=func(y+(h/2 *k2),x+h/2)
        k4=func(y+(h *k3),x+h)
        w = (1/6)*(k1+2*k2+2*k3+k4)
        return w
#recurisive RKF method that solves for xn and yn
#will produce as many values as count is set to
def RKF(y, x, count):
    y=y+(h*T4(x, y, h))
    x=x+h
    ypoints.append(y)
    xpoints.append(x)
    count = count+1
    if count < 1000:
     RKF(y, x, count)
    else:
        print(ypoints)
        return



RKF(y=1,x=1, count=0)

plt.plot(xpoints, ypoints, 'r', linewidth=2, label='RKF')
plt.plot(x0,y1, 'b:', linewidth=2, label='ODEint')
plt.xlabel('x')
plt.ylabel('y')
plt.legend()
plt.show()

