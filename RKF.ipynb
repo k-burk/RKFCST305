# All code was written by Kara Sumpter. 
# scipy, numpy, and matplotlib were all used for this project
# For implementation ODEint was used to first calculate the solution
# to the equation given.
# Then using the RKF equation that method was also used to 
# calculate the solution.

from scipy.integrate import odeint
import numpy as np
import matplotlib.pyplot as plt

#function given by instructor
def func(y, x):
    dydx = -y + np.log(x)
    return dydx

#inital values that were given by instructor
x0=2
y0=1
h=0.3

#using ODEint to calculate the values
x = np.linspace(2, 320, 1061)
y = odeint(func, y0, x)
print(y) #printing values to compare to doing equation by hand

#these variables are used to graph the results
ypoints=[]
xpoints=[]
ypoints.append(y0)
xpoints.append(x0)
count = 0
#T4 function from the RKF equation
def T4(x, y, h):
        k1=func(y,x)
        k2=func(y+(h/2 *k1),x+h/2)
        k3=func(y+(h/2 *k2),x+h/2)
        k4=func(y+(h *k3),x+h)
        w = (1/6)*(k1+2*k2+2*k3+k4)
        return w
#recurisive RKF method that solves for xn and yn
#will produce as many values as count is set to
def RKF(y, x, count):
    y=y+(h*T4(x, y, h))
    x=x+h
    ypoints.append(y)
    xpoints.append(x)
    count = count+1
    if count < 1000:
     RKF(y, x, count)
    else:
        print(ypoints)#printing values to compare to by hand and ODEint
        return
    
#calling the RKF function using the initial variables
RKF(y0,x0, 0)

#plotting the data
figure, axis = plt.subplots(1,3)
axis[0].plot(xpoints, ypoints,'g-')
axis[0].set_title("RKF")

axis[1].plot(x,y,'m:')
axis[1].set_title("ODEint")

axis[2].plot(xpoints, ypoints, 'r', linewidth=2, label='RKF')
axis[2].plot(x,y, 'b:', linewidth=2, label='ODEint')
axis[2].set_title("Combined Graph")
plt.xlabel('x')
plt.ylabel('y')

plt.legend()
plt.show()
